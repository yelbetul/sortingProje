{
 "cells": [
  {
   "cell_type": "markdown",
   "id": "82aa42ef-7e60-43f6-be17-f43f367e2c0a",
   "metadata": {},
   "source": [
    "Insertion Sort\n",
    "Soru 1: [22,27,16,2,18,6] -> Insertion Sort\n",
    "\n",
    "Yukarı verilen dizinin sort türüne göre aşamalarını yazınız.\n",
    "\n",
    "Cevap 1:Dizinin ilk elemanını alıp 'sıralı kısım' haline getirilir. Kalan elemanlar bu sıralı kısımda sağ ve sol olarak uygun yere getirilir.\n",
    "\n",
    "             SIRALI KISIM            SIRASIZ KISIM\n",
    "                 [22]             [27, 16, 2, 18, 6] \n",
    "          \n",
    "               [22, 27]             [16, 2, 18, 6] \n",
    "        \n",
    "            [16, 22, 27]             [2, 18, 6] \n",
    "      \n",
    "          [2, 16, 22, 27]              [18,6]     \n",
    "    \n",
    "        [2, 16,18, 22, 27]              [6]             \n",
    "   \n",
    "     [2, 6, 16, 18, 22, 27]             [ ]\n",
    "\n",
    "Big-O gösterimini yazınız : o(n)\n",
    "Time Complexity: Dizi sıralandıktan sonra 18 sayısı aşağıdaki case'lerden hangisinin kapsamına girer? Yazınız.\n",
    "\n",
    "1. Average case: Aradığımız sayının ortada olması\n",
    "\n",
    "Soru 2: [7,3,5,8,2,9,4,15,6] dizisinin Selection Sort'a göre ilk 4 adımını yazınız.\n",
    "\n",
    "Cevap 4:\n",
    "\n",
    "1.[7^,3,5,8,2^,9,4,15,6] -> [2,3,5,8,7,9,4,15,6]\n",
    "\n",
    "2.[2,3^,5,8,7,9,4,15,6]  -> [2,3,5,8,7,9,4,15,6]\n",
    "\n",
    "3.[2,3,5^,8,7,9,4^,15,6] -> [2,3,4,8,7,9,5,15,6] \n",
    "\n",
    "4.[2,3,4,8^,7,9,5^,15,6] -> [2,3,4,5,7,9,8,15,6] \n"
   ]
  },
  {
   "cell_type": "code",
   "execution_count": null,
   "id": "2940768f-0847-4dda-bbac-5fb96cfe6d7c",
   "metadata": {},
   "outputs": [],
   "source": []
  }
 ],
 "metadata": {
  "kernelspec": {
   "display_name": "Python 3 (ipykernel)",
   "language": "python",
   "name": "python3"
  },
  "language_info": {
   "codemirror_mode": {
    "name": "ipython",
    "version": 3
   },
   "file_extension": ".py",
   "mimetype": "text/x-python",
   "name": "python",
   "nbconvert_exporter": "python",
   "pygments_lexer": "ipython3",
   "version": "3.11.3"
  }
 },
 "nbformat": 4,
 "nbformat_minor": 5
}
